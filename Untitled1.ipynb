{
  "cells": [
    {
      "cell_type": "markdown",
      "metadata": {
        "id": "view-in-github",
        "colab_type": "text"
      },
      "source": [
        "<a href=\"https://colab.research.google.com/github/willer155/Atividades/blob/main/Untitled1.ipynb\" target=\"_parent\"><img src=\"https://colab.research.google.com/assets/colab-badge.svg\" alt=\"Open In Colab\"/></a>"
      ]
    },
    {
      "cell_type": "code",
      "source": [
        "def main():\n",
        "    nome = input(\"Digite seu nome: \")\n",
        "    ano_nascimento = int(input(\"Digite seu ano de nascimento: \"))\n",
        "\n",
        "    # Calculando a idade do usuário\n",
        "    idade = 2024 - ano_nascimento\n",
        "\n",
        "    if idade < 18:\n",
        "        print(\"Você é menor de idade. Não pode prosseguir.\")\n",
        "    else:\n",
        "        print(f\"Olá, {nome}!\")\n",
        "        print(\"Você é maior de idade.\")\n",
        "\n",
        "        escolaridade = input(\"Digite sua escolaridade (Ensino Médio Completo ou Ensino Superior Completo): \").lower()\n",
        "\n",
        "        if escolaridade == \"ensino médio completo\":\n",
        "            print(\"Você tem Ensino Médio Completo.\")\n",
        "            opcoes_cursos_superiores = [\n",
        "                \"1. Engenharia Civil\",\n",
        "                \"2. Administração de Empresas\",\n",
        "                \"3. Ciências da Computação\"\n",
        "            ]\n",
        "            print(\"Opções de cursos superiores:\")\n",
        "            for opcao in opcoes_cursos_superiores:\n",
        "                print(opcao)\n",
        "        elif escolaridade == \"ensino superior completo\":\n",
        "            print(\"Você tem Ensino Superior Completo.\")\n",
        "            opcoes_pos_graduacao = [\n",
        "                \"1. MBA em Gestão Empresarial\",\n",
        "                \"2. Mestrado em Engenharia Elétrica\",\n",
        "                \"3. Especialização em Direito Penal\"\n",
        "            ]\n",
        "            print(\"Opções de pós-graduação:\")\n",
        "            for opcao in opcoes_pos_graduacao:\n",
        "                print(opcao)\n",
        "        else:\n",
        "            print(\"Escolaridade não reconhecida.\")\n",
        "            return\n",
        "\n",
        "if __name__ == \"__main__\":\n",
        "    main()"
      ],
      "metadata": {
        "colab": {
          "base_uri": "https://localhost:8080/"
        },
        "id": "1hK7YPMjQ33h",
        "outputId": "79db0324-de52-4eea-f590-61b89eda4b26"
      },
      "execution_count": 17,
      "outputs": [
        {
          "output_type": "stream",
          "name": "stdout",
          "text": [
            "Digite seu nome: willer\n",
            "Digite seu ano de nascimento: 2002\n",
            "Olá, willer!\n",
            "Você é maior de idade.\n",
            "Digite sua escolaridade (Ensino Médio Completo ou Ensino Superior Completo): Ensino Médio Completo\n",
            "Você tem Ensino Médio Completo.\n",
            "Opções de cursos superiores:\n",
            "1. Engenharia Civil\n",
            "2. Administração de Empresas\n",
            "3. Ciências da Computação\n"
          ]
        }
      ]
    },
    {
      "cell_type": "code",
      "source": [
        "def main():\n",
        "    # Solicitação dos números ao usuário\n",
        "    num1 = float(input(\"Digite o primeiro número: \"))\n",
        "    num2 = float(input(\"Digite o segundo número: \"))\n",
        "\n",
        "    # Menu de opções para o usuário escolher o cálculo\n",
        "    print(\"\\nEscolha o cálculo que deseja realizar:\")\n",
        "    print(\"1. Adição\")\n",
        "    print(\"2. Subtração\")\n",
        "    print(\"3. Multiplicação\")\n",
        "    print(\"4. Divisão\")\n",
        "\n",
        "    escolha = input(\"Digite o número da operação desejada (1/2/3/4): \")\n",
        "\n",
        "    # Realização do cálculo baseado na escolha do usuário\n",
        "    if escolha == '1':\n",
        "        resultado = num1 + num2\n",
        "        print(f\"\\nResultado da adição de {num1} + {num2} = {resultado}\")\n",
        "    elif escolha == '2':\n",
        "        resultado = num1 - num2\n",
        "        print(f\"\\nResultado da subtração de {num1} - {num2} = {resultado}\")\n",
        "    elif escolha == '3':\n",
        "        resultado = num1 * num2\n",
        "        print(f\"\\nResultado da multiplicação de {num1} * {num2} = {resultado}\")\n",
        "    elif escolha == '4':\n",
        "        if num2 == 0:\n",
        "            print(\"Não é possível dividir por zero.\")\n",
        "        else:\n",
        "            resultado = num1 / num2\n",
        "            print(f\"\\nResultado da divisão de {num1} / {num2} = {resultado}\")\n",
        "    else:\n",
        "        print(\"Escolha inválida. Por favor, digite um número de 1 a 4.\")\n",
        "\n",
        "if __name__ == \"__main__\":\n",
        "    main()"
      ],
      "metadata": {
        "colab": {
          "base_uri": "https://localhost:8080/"
        },
        "id": "ya219U5NTbLe",
        "outputId": "bcec172c-62f8-46e3-e06b-66d30e1e7e04"
      },
      "execution_count": 18,
      "outputs": [
        {
          "output_type": "stream",
          "name": "stdout",
          "text": [
            "Digite o primeiro número: 123\n",
            "Digite o segundo número: 17\n",
            "\n",
            "Escolha o cálculo que deseja realizar:\n",
            "1. Adição\n",
            "2. Subtração\n",
            "3. Multiplicação\n",
            "4. Divisão\n",
            "Digite o número da operação desejada (1/2/3/4): 1\n",
            "\n",
            "Resultado da adição de 123.0 + 17.0 = 140.0\n"
          ]
        }
      ]
    }
  ],
  "metadata": {
    "colab": {
      "provenance": [],
      "authorship_tag": "ABX9TyO0z/LvSfwSBMX4bMQHry0s",
      "include_colab_link": true
    },
    "kernelspec": {
      "display_name": "Python 3",
      "name": "python3"
    },
    "language_info": {
      "name": "python"
    }
  },
  "nbformat": 4,
  "nbformat_minor": 0
}