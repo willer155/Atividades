{
  "cells": [
    {
      "cell_type": "markdown",
      "metadata": {
        "id": "view-in-github",
        "colab_type": "text"
      },
      "source": [
        "<a href=\"https://colab.research.google.com/github/willer155/Atividades/blob/main/Untitled1.ipynb\" target=\"_parent\"><img src=\"https://colab.research.google.com/assets/colab-badge.svg\" alt=\"Open In Colab\"/></a>"
      ]
    },
    {
      "cell_type": "code",
      "execution_count": null,
      "metadata": {
        "colab": {
          "background_save": true,
          "base_uri": "https://localhost:8080/"
        },
        "id": "YKx2dJxMYeMg",
        "outputId": "f4213d26-f653-4379-8a32-1560fdf9eca8"
      },
      "outputs": [
        {
          "name": "stdout",
          "output_type": "stream",
          "text": [
            "Bem-vindo ao jogo Pedra, Papel, Tesoura!\n",
            "Escolha uma opção:\n",
            "1. Pedra\n",
            "2. Papel\n",
            "3. Tesoura\n",
            "0. Sair do jogo\n",
            "Você escolheu Pedra.\n",
            "O computador escolheu Papel.\n",
            "Você perdeu!\n",
            "\n",
            "Você escolheu Papel.\n",
            "O computador escolheu Pedra.\n",
            "Você ganhou!\n",
            "\n",
            "Você escolheu Tesoura.\n",
            "O computador escolheu Tesoura.\n",
            "Empate!\n",
            "\n",
            "Você escolheu Tesoura.\n",
            "O computador escolheu Pedra.\n",
            "Você perdeu!\n",
            "\n",
            "Você escolheu Papel.\n",
            "O computador escolheu Papel.\n",
            "Empate!\n",
            "\n",
            "Você escolheu Tesoura.\n",
            "O computador escolheu Pedra.\n",
            "Você perdeu!\n",
            "\n"
          ]
        }
      ],
      "source": [
        "  import random\n",
        "\n",
        "def jogo():\n",
        "    print(\"Bem-vindo ao jogo Pedra, Papel, Tesoura!\")\n",
        "    print(\"Escolha uma opção:\")\n",
        "    print(\"1. Pedra\")\n",
        "    print(\"2. Papel\")\n",
        "    print(\"3. Tesoura\")\n",
        "    print(\"0. Sair do jogo\")\n",
        "\n",
        "    opcoes = [\"Pedra\", \"Papel\", \"Tesoura\"]\n",
        "\n",
        "    while True:\n",
        "        escolha_usuario = input(\"Digite sua escolha (1, 2, 3) ou 0 para sair: \")\n",
        "\n",
        "        if escolha_usuario == '0':\n",
        "            print(\"Obrigado por jogar!\")\n",
        "            break\n",
        "\n",
        "        if escolha_usuario not in ['1', '2', '3']:\n",
        "            print(\"Escolha inválida. Por favor, digite 1, 2, 3 ou 0 para sair.\")\n",
        "            continue\n",
        "\n",
        "        escolha_usuario = int(escolha_usuario) - 1\n",
        "        escolha_computador = random.randint(0, 2)\n",
        "\n",
        "        print(f\"Você escolheu {opcoes[escolha_usuario]}.\")\n",
        "        print(f\"O computador escolheu {opcoes[escolha_computador]}.\")\n",
        "\n",
        "        resultado = verificar_ganhador(escolha_usuario, escolha_computador)\n",
        "\n",
        "        if resultado == 0:\n",
        "            print(\"Empate!\")\n",
        "        elif resultado == 1:\n",
        "            print(\"Você ganhou!\")\n",
        "        else:\n",
        "            print(\"Você perdeu!\")\n",
        "\n",
        "        print()\n",
        "\n",
        "def verificar_ganhador(usuario, computador):\n",
        "    # Retorna 0 se houver empate, 1 se o usuário ganhar, -1 se o computador ganhar\n",
        "    if usuario == computador:\n",
        "        return 0\n",
        "    elif (usuario == 0 and computador == 2) or (usuario == 1 and computador == 0) or (usuario == 2 and computador == 1):\n",
        "        return 1\n",
        "    else:\n",
        "        return -1\n",
        "\n",
        "# Executar o jogo\n",
        "jogo()"
      ]
    }
  ],
  "metadata": {
    "colab": {
      "provenance": [],
      "authorship_tag": "ABX9TyM5Dh44nKF3g/MyjZBoUsO6",
      "include_colab_link": true
    },
    "kernelspec": {
      "display_name": "Python 3",
      "name": "python3"
    },
    "language_info": {
      "name": "python"
    }
  },
  "nbformat": 4,
  "nbformat_minor": 0
}