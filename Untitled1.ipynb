{
  "cells": [
    {
      "cell_type": "markdown",
      "metadata": {
        "id": "view-in-github",
        "colab_type": "text"
      },
      "source": [
        "<a href=\"https://colab.research.google.com/github/willer155/Atividades/blob/main/Untitled1.ipynb\" target=\"_parent\"><img src=\"https://colab.research.google.com/assets/colab-badge.svg\" alt=\"Open In Colab\"/></a>"
      ]
    },
    {
      "cell_type": "code",
      "execution_count": null,
      "metadata": {
        "colab": {
          "background_save": true,
          "base_uri": "https://localhost:8080/"
        },
        "id": "YKx2dJxMYeMg",
        "outputId": "f4213d26-f653-4379-8a32-1560fdf9eca8"
      },
      "outputs": [
        {
          "name": "stdout",
          "output_type": "stream",
          "text": [
            "Bem-vindo ao jogo Pedra, Papel, Tesoura!\n",
            "Escolha uma opção:\n",
            "1. Pedra\n",
            "2. Papel\n",
            "3. Tesoura\n",
            "0. Sair do jogo\n",
            "Você escolheu Pedra.\n",
            "O computador escolheu Papel.\n",
            "Você perdeu!\n",
            "\n",
            "Você escolheu Papel.\n",
            "O computador escolheu Pedra.\n",
            "Você ganhou!\n",
            "\n",
            "Você escolheu Tesoura.\n",
            "O computador escolheu Tesoura.\n",
            "Empate!\n",
            "\n",
            "Você escolheu Tesoura.\n",
            "O computador escolheu Pedra.\n",
            "Você perdeu!\n",
            "\n",
            "Você escolheu Papel.\n",
            "O computador escolheu Papel.\n",
            "Empate!\n",
            "\n",
            "Você escolheu Tesoura.\n",
            "O computador escolheu Pedra.\n",
            "Você perdeu!\n",
            "\n"
          ]
        }
      ],
      "source": [
        "  import random\n",
        "\n",
        "def jogo():\n",
        "    print(\"Bem-vindo ao jogo Pedra, Papel, Tesoura!\")\n",
        "    print(\"Escolha uma opção:\")\n",
        "    print(\"1. Pedra\")\n",
        "    print(\"2. Papel\")\n",
        "    print(\"3. Tesoura\")\n",
        "    print(\"0. Sair do jogo\")\n",
        "\n",
        "    opcoes = [\"Pedra\", \"Papel\", \"Tesoura\"]\n",
        "\n",
        "    while True:\n",
        "        escolha_usuario = input(\"Digite sua escolha (1, 2, 3) ou 0 para sair: \")\n",
        "\n",
        "        if escolha_usuario == '0':\n",
        "            print(\"Obrigado por jogar!\")\n",
        "            break\n",
        "\n",
        "        if escolha_usuario not in ['1', '2', '3']:\n",
        "            print(\"Escolha inválida. Por favor, digite 1, 2, 3 ou 0 para sair.\")\n",
        "            continue\n",
        "\n",
        "        escolha_usuario = int(escolha_usuario) - 1\n",
        "        escolha_computador = random.randint(0, 2)\n",
        "\n",
        "        print(f\"Você escolheu {opcoes[escolha_usuario]}.\")\n",
        "        print(f\"O computador escolheu {opcoes[escolha_computador]}.\")\n",
        "\n",
        "        resultado = verificar_ganhador(escolha_usuario, escolha_computador)\n",
        "\n",
        "        if resultado == 0:\n",
        "            print(\"Empate!\")\n",
        "        elif resultado == 1:\n",
        "            print(\"Você ganhou!\")\n",
        "        else:\n",
        "            print(\"Você perdeu!\")\n",
        "\n",
        "        print()\n",
        "\n",
        "def verificar_ganhador(usuario, computador):\n",
        "    # Retorna 0 se houver empate, 1 se o usuário ganhar, -1 se o computador ganhar\n",
        "    if usuario == computador:\n",
        "        return 0\n",
        "    elif (usuario == 0 and computador == 2) or (usuario == 1 and computador == 0) or (usuario == 2 and computador == 1):\n",
        "        return 1\n",
        "    else:\n",
        "        return -1\n",
        "\n",
        "# Executar o jogo\n",
        "jogo()"
      ]
    },
    {
      "cell_type": "code",
      "source": [
        "import math\n",
        "\n",
        "\n",
        "def calcular_area_circulo(raio):\n",
        "    area = math.pi * raio**2\n",
        "    return area\n",
        "\n",
        "\n",
        "def calcular_area_triangulo(base, altura):\n",
        "    area = (base * altura) / 2\n",
        "    return area\n",
        "\n",
        "\n",
        "def calcular_area_retangulo(base, altura):\n",
        "    area = base * altura\n",
        "    return area\n",
        "\n",
        "\n",
        "def main():\n",
        "    print(\"Vamos calcular a área de algumas formas geométricas.\")\n",
        "\n",
        "    raio = float(input(\"Digite o raio do círculo em metros: \"))\n",
        "    area_circulo = calcular_area_circulo(raio)\n",
        "    print(f\"A área do círculo com raio {raio} metros é {area_circulo:.2f} metros quadrados.\")\n",
        "\n",
        "\n",
        "    base = float(input(\"\\nDigite a base do triângulo em metros: \"))\n",
        "    altura = float(input(\"Digite a altura do triângulo em metros: \"))\n",
        "    area_triangulo = calcular_area_triangulo(base, altura)\n",
        "    print(f\"A área do triângulo com base {base} metros e altura {altura} metros é {area_triangulo:.2f} metros quadrados.\")\n",
        "\n",
        "\n",
        "    base = float(input(\"\\nDigite a base do retângulo em metros: \"))\n",
        "    altura = float(input(\"Digite a altura do retângulo em metros: \"))\n",
        "    area_retangulo = calcular_area_retangulo(base, altura)\n",
        "    print(f\"A área do retângulo com base {base} metros e altura {altura} metros é {area_retangulo:.2f} metros quadrados.\")\n",
        "\n",
        "if __name__ == \"__main__\":\n",
        "    main()"
      ],
      "metadata": {
        "colab": {
          "base_uri": "https://localhost:8080/"
        },
        "id": "KcXYJ4TONGQc",
        "outputId": "106e428e-cbcc-428a-8d00-3f10e723ccca"
      },
      "execution_count": 1,
      "outputs": [
        {
          "output_type": "stream",
          "name": "stdout",
          "text": [
            "Vamos calcular a área de algumas formas geométricas.\n",
            "Digite o raio do círculo em metros: 3\n",
            "A área do círculo com raio 3.0 metros é 28.27 metros quadrados.\n",
            "\n",
            "Digite a base do triângulo em metros: 8\n",
            "Digite a altura do triângulo em metros: 3\n",
            "A área do triângulo com base 8.0 metros e altura 3.0 metros é 12.00 metros quadrados.\n",
            "\n",
            "Digite a base do retângulo em metros: 10\n",
            "Digite a altura do retângulo em metros: 15\n",
            "A área do retângulo com base 10.0 metros e altura 15.0 metros é 150.00 metros quadrados.\n"
          ]
        }
      ]
    }
  ],
  "metadata": {
    "colab": {
      "provenance": [],
      "authorship_tag": "ABX9TyMk+v9YPieRLe5lWSOkmLI9",
      "include_colab_link": true
    },
    "kernelspec": {
      "display_name": "Python 3",
      "name": "python3"
    },
    "language_info": {
      "name": "python"
    }
  },
  "nbformat": 4,
  "nbformat_minor": 0
}