{
  "cells": [
    {
      "cell_type": "markdown",
      "metadata": {
        "id": "view-in-github",
        "colab_type": "text"
      },
      "source": [
        "<a href=\"https://colab.research.google.com/github/willer155/Atividades/blob/main/Untitled1.ipynb\" target=\"_parent\"><img src=\"https://colab.research.google.com/assets/colab-badge.svg\" alt=\"Open In Colab\"/></a>"
      ]
    },
    {
      "cell_type": "code",
      "source": [
        "def main():\n",
        "    nome = input(\"Digite seu nome: \")\n",
        "    ano_nascimento = int(input(\"Digite seu ano de nascimento: \"))\n",
        "\n",
        "    # Calculando a idade do usuário\n",
        "    idade = 2024 - ano_nascimento\n",
        "\n",
        "    if idade < 18:\n",
        "        print(\"Você é menor de idade. Não pode prosseguir.\")\n",
        "    else:\n",
        "        print(f\"Olá, {nome}!\")\n",
        "        print(\"Você é maior de idade.\")\n",
        "\n",
        "        escolaridade = input(\"Digite sua escolaridade (Ensino Médio Completo ou Ensino Superior Completo): \").lower()\n",
        "\n",
        "        if escolaridade == \"ensino médio completo\":\n",
        "            print(\"Você tem Ensino Médio Completo.\")\n",
        "            opcoes_cursos_superiores = [\n",
        "                \"1. Engenharia Civil\",\n",
        "                \"2. Administração de Empresas\",\n",
        "                \"3. Ciências da Computação\"\n",
        "            ]\n",
        "            print(\"Opções de cursos superiores:\")\n",
        "            for opcao in opcoes_cursos_superiores:\n",
        "                print(opcao)\n",
        "        elif escolaridade == \"ensino superior completo\":\n",
        "            print(\"Você tem Ensino Superior Completo.\")\n",
        "            opcoes_pos_graduacao = [\n",
        "                \"1. MBA em Gestão Empresarial\",\n",
        "                \"2. Mestrado em Engenharia Elétrica\",\n",
        "                \"3. Especialização em Direito Penal\"\n",
        "            ]\n",
        "            print(\"Opções de pós-graduação:\")\n",
        "            for opcao in opcoes_pos_graduacao:\n",
        "                print(opcao)\n",
        "        else:\n",
        "            print(\"Escolaridade não reconhecida.\")\n",
        "            return\n",
        "\n",
        "if __name__ == \"__main__\":\n",
        "    main()"
      ],
      "metadata": {
        "colab": {
          "base_uri": "https://localhost:8080/"
        },
        "id": "1hK7YPMjQ33h",
        "outputId": "79db0324-de52-4eea-f590-61b89eda4b26"
      },
      "execution_count": 17,
      "outputs": [
        {
          "output_type": "stream",
          "name": "stdout",
          "text": [
            "Digite seu nome: willer\n",
            "Digite seu ano de nascimento: 2002\n",
            "Olá, willer!\n",
            "Você é maior de idade.\n",
            "Digite sua escolaridade (Ensino Médio Completo ou Ensino Superior Completo): Ensino Médio Completo\n",
            "Você tem Ensino Médio Completo.\n",
            "Opções de cursos superiores:\n",
            "1. Engenharia Civil\n",
            "2. Administração de Empresas\n",
            "3. Ciências da Computação\n"
          ]
        }
      ]
    }
  ],
  "metadata": {
    "colab": {
      "provenance": [],
      "authorship_tag": "ABX9TyN9qMkSznIC0rtlGkBXzXsV",
      "include_colab_link": true
    },
    "kernelspec": {
      "display_name": "Python 3",
      "name": "python3"
    },
    "language_info": {
      "name": "python"
    }
  },
  "nbformat": 4,
  "nbformat_minor": 0
}